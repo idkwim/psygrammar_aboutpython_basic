{
 "cells": [
  {
   "cell_type": "markdown",
   "metadata": {},
   "source": [
    "## KeyReference\n",
    "- [python_basic](https://github.com/psygrammer/biopsypy/tree/master/python_basic)\n",
    "- [python_basic_excercise](https://github.com/psygrammer/biopsypy/blob/master/python_basic/python_basic_exercise.ipynb)\n",
    "- [기초문법:Learn X in Y minutes](https://learnxinyminutes.com/docs/python3/)\n",
    "- [엑셀파일분석, 폴더의 사진 정리,간단한 웹 크롤링-이미지 주소만 추출해서 다운받기](https://github.com/psygrammer/biopsypy/blob/master/python_basic/.ipynb_checkpoints/python_basic_exercise-checkpoint.ipynb)\n"
   ]
  },
  {
   "cell_type": "markdown",
   "metadata": {},
   "source": [
    "문제 1) 1부터 100까지 중에 짝수만 출력하기"
   ]
  },
  {
   "cell_type": "code",
   "execution_count": 10,
   "metadata": {},
   "outputs": [
    {
     "name": "stdout",
     "output_type": "stream",
     "text": [
      "2\n",
      "4\n",
      "6\n",
      "8\n",
      "10\n",
      "12\n",
      "14\n",
      "16\n",
      "18\n",
      "20\n",
      "22\n",
      "24\n",
      "26\n",
      "28\n",
      "30\n",
      "32\n",
      "34\n",
      "36\n",
      "38\n",
      "40\n",
      "42\n",
      "44\n",
      "46\n",
      "48\n",
      "50\n",
      "52\n",
      "54\n",
      "56\n",
      "58\n",
      "60\n",
      "62\n",
      "64\n",
      "66\n",
      "68\n",
      "70\n",
      "72\n",
      "74\n",
      "76\n",
      "78\n",
      "80\n",
      "82\n",
      "84\n",
      "86\n",
      "88\n",
      "90\n",
      "92\n",
      "94\n",
      "96\n",
      "98\n",
      "100\n"
     ]
    }
   ],
   "source": [
    "nums = range(1,101)\n",
    "for i in nums:\n",
    "    if i % 2 == 0 :\n",
    "        print i"
   ]
  },
  {
   "cell_type": "markdown",
   "metadata": {},
   "source": [
    "문제 2) 사용자 입력을 무한히 받다가 q를 입력하면 종료하기m"
   ]
  },
  {
   "cell_type": "code",
   "execution_count": 21,
   "metadata": {},
   "outputs": [
    {
     "name": "stdout",
     "output_type": "stream",
     "text": [
      "type anything your wanta\n",
      "type anything your wanta\n",
      "hahahaha\n",
      "type anything your wanta\n",
      "hahahaha\n",
      "type anything your wanta\n",
      "hahahaha\n",
      "type anything your wanta\n",
      "hahahaha\n",
      "type anything your wanta\n",
      "hahahaha\n",
      "type anything your wanta\n",
      "hahahaha\n",
      "type anything your wanta\n",
      "hahahaha\n",
      "type anything your wanta\n",
      "hahahaha\n",
      "type anything your wantq\n",
      "hahahaha\n"
     ]
    }
   ],
   "source": [
    "name = raw_input(\"type anything your want\")\n",
    "while(name!=\"q\"):\n",
    "    name = raw_input(\"type anything your want\")\n",
    "    #break\n",
    "    print \"hahahaha\"\n"
   ]
  },
  {
   "cell_type": "markdown",
   "metadata": {
    "collapsed": true
   },
   "source": [
    "보너스 ㅡ 문제 3) 트와이스의 '시그널' 가사를 웹에서 가져와서, '시그널'이란 단어가 몇번 나오는지 알아내기\n"
   ]
  },
  {
   "cell_type": "code",
   "execution_count": 107,
   "metadata": {
    "collapsed": true
   },
   "outputs": [],
   "source": [
    "raw_src = '''Trying to let you know\n",
    "Sign을 보내 signal 보내\n",
    "I must let you know\n",
    "Sign을 보내 signal 보내\n",
    "Sign을 보내 signal 보내\n",
    "Sign을 보내 signal 보내\n",
    "Sign을 보내 signal 보내\n",
    "I must let you know\n",
    "Sign을 보내 signal 보내\n",
    "근데 전혀 안 통해\n",
    "눈빛을 보내 눈치를 주네\n",
    "근데 못 알아듣네\n",
    "답답해서 미치겠다 정말\n",
    "왜 그런지 모르겠다 정말\n",
    "다시 한 번 힘을 내서\n",
    "Sign을 보내 signal 보내\n",
    "눈짓도 손짓도 어떤 표정도\n",
    "소용이 없네 하나도 안 통해\n",
    "눈치도 코치도 전혀 없나 봐\n",
    "더 이상 어떻게 내 맘을 표현해\n",
    "언제부턴가 난 네가 좋아\n",
    "지기 시작했어 바보야\n",
    "왜 이렇게도 내 맘을 몰라\n",
    "언제까지 이렇게 둔하게\n",
    "나를 친구로만 대할래\n",
    "내가 원하는 건 그게 아닌데\n",
    "Signal 보내 signal 보내\n",
    "찌릿 찌릿 찌릿 찌릿\n",
    "난 너를 원해 난 너를 원해\n",
    "왜 반응이 없니\n",
    "만날 때 마다 마음을 담아\n",
    "찌릿 찌릿 찌릿 찌릿\n",
    "기다리잖아 다 보이잖아\n",
    "왜 알지 못하니\n",
    "Trying to let you know\n",
    "Sign을 보내 signal 보내\n",
    "I must let you know\n",
    "Sign을 보내 signal 보내\n",
    "널 보며 웃으면 알아채야지\n",
    "오늘만 몇 번째 널 보며 웃는데\n",
    "자꾸 말을 걸면 좀 느껴야지\n",
    "계속 네 곁에 머물러있는데\n",
    "언제부턴가 난 네가 좋아\n",
    "지기 시작했어 바보야\n",
    "왜 이렇게도 내 맘을 몰라\n",
    "언제까지 이렇게 둔하게\n",
    "나를 친구로만 대할래\n",
    "내가 원하는 건 그게 아닌데\n",
    "Signal 보내 signal 보내\n",
    "찌릿 찌릿 찌릿 찌릿\n",
    "난 너를 원해 난 너를 원해\n",
    "왜 반응이 없니\n",
    "만날 때 마다 마음을 담아\n",
    "찌릿 찌릿 찌릿 찌릿\n",
    "기다리잖아 다 보이잖아\n",
    "왜 알지 못하니\n",
    "찌릿 찌릿 찌릿 찌릿\n",
    "왜 반응이 없니\n",
    "찌릿 찌릿 찌릿 찌릿\n",
    "왜 알지 못하니\n",
    "Sign을 보내 signal 보내\n",
    "근데 전혀 안 통해\n",
    "눈빛을 보내 눈치를 주네\n",
    "근데 못 알아듣네\n",
    "답답해서 미치겠다 정말\n",
    "왜 그런지 모르겠다 정말\n",
    "다시 한 번 힘을 내서\n",
    "Sign을 보내 signal 보내'''\n",
    "\n",
    "# 외부입력을 읽어들임\n",
    "#doc = raw_src.split(\"\\n\")"
   ]
  },
  {
   "cell_type": "code",
   "execution_count": 94,
   "metadata": {},
   "outputs": [],
   "source": [
    "msg = 'Sign을 보내 signal 보내'"
   ]
  },
  {
   "cell_type": "code",
   "execution_count": 95,
   "metadata": {},
   "outputs": [
    {
     "name": "stdout",
     "output_type": "stream",
     "text": [
      "signal\n"
     ]
    }
   ],
   "source": [
    "if 'signal' in words : print('signal')"
   ]
  },
  {
   "cell_type": "code",
   "execution_count": 97,
   "metadata": {
    "scrolled": false
   },
   "outputs": [
    {
     "name": "stdout",
     "output_type": "stream",
     "text": [
      "Sign을\n",
      "보내\n",
      "signal\n",
      "('!:', 'signal')\n",
      "보내\n"
     ]
    }
   ],
   "source": [
    "words = msg.split() #msg를 공백으로 분할하고 'words'라는 변수에 저장한다.\n",
    "for word in words :\n",
    "    print(word) # print each variable in 'words'\n",
    "    if word == 'signal' : # print if a variable is 'signal'\n",
    "        print(\"!:\", word)"
   ]
  },
  {
   "cell_type": "code",
   "execution_count": 108,
   "metadata": {
    "collapsed": true
   },
   "outputs": [],
   "source": [
    "def check_line(line, keyword) :\n",
    "    cnt = 0\n",
    "    words = line.split()\n",
    "    for word in words :\n",
    "        if keyword == word :\n",
    "            cnt += 1\n",
    "    return cnt"
   ]
  },
  {
   "cell_type": "code",
   "execution_count": 109,
   "metadata": {
    "collapsed": true
   },
   "outputs": [],
   "source": [
    "def count_keyword(doc, keyword) :\n",
    "    cnt = 0\n",
    "    for line in doc : \n",
    "        #print(\"D:\",line)\n",
    "        l_cnt = check_line(line,keyword)\n",
    "        cnt = cnt + l_cnt\n",
    "        #print(cnt)\n",
    "    return cnt"
   ]
  },
  {
   "cell_type": "code",
   "execution_count": 110,
   "metadata": {
    "collapsed": true
   },
   "outputs": [],
   "source": [
    "def load_data_from_file(fn) :\n",
    "    f = open(fn)\n",
    "    doc = f.readlines()\n",
    "    f.close()\n",
    "    return doc"
   ]
  },
  {
   "cell_type": "code",
   "execution_count": 112,
   "metadata": {},
   "outputs": [
    {
     "name": "stdout",
     "output_type": "stream",
     "text": [
      "13\n"
     ]
    }
   ],
   "source": [
    "cnt = 0\n",
    "keyword = 'signal'\n",
    "fn = 'signal.txt'\n",
    "doc = load_data_from_file(fn)\n",
    "cnt = count_keyword(doc, keyword)\n",
    "print(cnt)"
   ]
  },
  {
   "cell_type": "code",
   "execution_count": null,
   "metadata": {
    "collapsed": true
   },
   "outputs": [],
   "source": []
  },
  {
   "cell_type": "code",
   "execution_count": null,
   "metadata": {
    "collapsed": true
   },
   "outputs": [],
   "source": []
  },
  {
   "cell_type": "code",
   "execution_count": null,
   "metadata": {
    "collapsed": true
   },
   "outputs": [],
   "source": []
  },
  {
   "cell_type": "code",
   "execution_count": null,
   "metadata": {
    "collapsed": true
   },
   "outputs": [],
   "source": []
  },
  {
   "cell_type": "code",
   "execution_count": null,
   "metadata": {
    "collapsed": true
   },
   "outputs": [],
   "source": [
    "print (\"hello world\")"
   ]
  },
  {
   "cell_type": "code",
   "execution_count": null,
   "metadata": {
    "collapsed": true
   },
   "outputs": [],
   "source": [
    "2+2"
   ]
  },
  {
   "cell_type": "code",
   "execution_count": null,
   "metadata": {
    "collapsed": true
   },
   "outputs": [],
   "source": [
    "5/3"
   ]
  },
  {
   "cell_type": "code",
   "execution_count": null,
   "metadata": {
    "collapsed": true
   },
   "outputs": [],
   "source": [
    "a=1\n",
    "b=1\n",
    "a==b"
   ]
  },
  {
   "cell_type": "code",
   "execution_count": null,
   "metadata": {
    "collapsed": true
   },
   "outputs": [],
   "source": [
    "a = \"I love newlines.\\nI wish I could marry them.\\n\\nSigh...\"\n",
    "b = \"TABS\\tARE\\tAWESOME\\t!\""
   ]
  },
  {
   "cell_type": "code",
   "execution_count": null,
   "metadata": {
    "collapsed": true
   },
   "outputs": [],
   "source": [
    "print(a)"
   ]
  },
  {
   "cell_type": "code",
   "execution_count": null,
   "metadata": {
    "collapsed": true
   },
   "outputs": [],
   "source": [
    "b"
   ]
  },
  {
   "cell_type": "code",
   "execution_count": null,
   "metadata": {
    "collapsed": true
   },
   "outputs": [],
   "source": [
    "a = \"spo\"\n",
    "b = 'on'\n",
    "a+b"
   ]
  },
  {
   "cell_type": "code",
   "execution_count": null,
   "metadata": {
    "collapsed": true
   },
   "outputs": [],
   "source": [
    "a='lala'\n",
    "10 * a"
   ]
  },
  {
   "cell_type": "code",
   "execution_count": null,
   "metadata": {
    "collapsed": true
   },
   "outputs": [],
   "source": [
    "a = 'test'\n",
    "a.center(10)\n",
    "a.count('t')\n",
    "a.replace('t','y')"
   ]
  },
  {
   "cell_type": "code",
   "execution_count": null,
   "metadata": {
    "collapsed": true
   },
   "outputs": [],
   "source": [
    "a='kim '\n",
    "b='seoung'\n",
    "c='yong'\n",
    "a + b + c + str(30)\n"
   ]
  },
  {
   "cell_type": "code",
   "execution_count": null,
   "metadata": {
    "collapsed": true
   },
   "outputs": [],
   "source": [
    "a='every day %d days, I brush my %s. I like this'\n",
    "a"
   ]
  },
  {
   "cell_type": "code",
   "execution_count": null,
   "metadata": {
    "collapsed": true
   },
   "outputs": [],
   "source": [
    "a%(10,'hi')"
   ]
  },
  {
   "cell_type": "code",
   "execution_count": null,
   "metadata": {
    "collapsed": true,
    "scrolled": true
   },
   "outputs": [],
   "source": [
    "'%.3f' %(50.7)"
   ]
  },
  {
   "cell_type": "code",
   "execution_count": null,
   "metadata": {
    "collapsed": true
   },
   "outputs": [],
   "source": [
    "a=['one','two','three']\n",
    "print (a)\n",
    "print (a[0])\n",
    "print (a[1])\n",
    "print (a[2])\n",
    "print (a[-1])\n",
    "print (a[0:3])\n",
    "\n",
    "a=[1,2,3,4,5,6,7,8,9]\n",
    "print(a[0:8])"
   ]
  },
  {
   "cell_type": "code",
   "execution_count": null,
   "metadata": {
    "collapsed": true
   },
   "outputs": [],
   "source": [
    "img=[[ [128,128,128], [255,255,255], [128,128,128] ],\n",
    "   [ [0,0,0], [0,0,0], [0,0,0] ],\n",
    "   [ [128,128,128], [255,255,255], [128,128,128] ]]"
   ]
  },
  {
   "cell_type": "code",
   "execution_count": null,
   "metadata": {
    "collapsed": true
   },
   "outputs": [],
   "source": [
    "img[0][0]"
   ]
  },
  {
   "cell_type": "code",
   "execution_count": null,
   "metadata": {
    "collapsed": true
   },
   "outputs": [],
   "source": [
    "a=[10,20,30,40]\n",
    "print(a)\n",
    "a.pop(0)\n",
    "a.append(1000000)\n",
    "a\n"
   ]
  },
  {
   "cell_type": "code",
   "execution_count": null,
   "metadata": {
    "collapsed": true
   },
   "outputs": [],
   "source": [
    "a=[10,20,30,40]\n",
    "b=[10,20,30,40]\n",
    "a.extend(b)\n",
    "a"
   ]
  },
  {
   "cell_type": "code",
   "execution_count": null,
   "metadata": {
    "collapsed": true
   },
   "outputs": [],
   "source": [
    "a=[1,2,3]\n",
    "b=a\n",
    "print(a)\n",
    "print(b)"
   ]
  },
  {
   "cell_type": "code",
   "execution_count": null,
   "metadata": {
    "collapsed": true
   },
   "outputs": [],
   "source": [
    "a=[1,2,3]\n",
    "b=a\n",
    "a=a+[3,4,5]\n",
    "print (a)\n",
    "print (b)"
   ]
  },
  {
   "cell_type": "code",
   "execution_count": null,
   "metadata": {
    "collapsed": true
   },
   "outputs": [],
   "source": [
    "a=[1,2,3]\n",
    "b= a.copy()\n",
    "a.append(4)\n",
    "print (a)\n",
    "print( b)"
   ]
  },
  {
   "cell_type": "code",
   "execution_count": null,
   "metadata": {
    "collapsed": true,
    "scrolled": true
   },
   "outputs": [],
   "source": [
    "a=('one','two','three')\n",
    "print(a)\n",
    "\n",
    "a.append('four')\n",
    "print(a)"
   ]
  },
  {
   "cell_type": "code",
   "execution_count": null,
   "metadata": {
    "collapsed": true
   },
   "outputs": [],
   "source": [
    "import numpy\n",
    "\n",
    "a=[5,6,7]\n",
    "a+1\n",
    "\n",
    "a[0]=a[0]+1\n",
    "a[1]= a[1]+1\n"
   ]
  },
  {
   "cell_type": "code",
   "execution_count": null,
   "metadata": {
    "collapsed": true
   },
   "outputs": [],
   "source": [
    "import numpy\n",
    "\n",
    "a=[5,6,7]\n",
    "b=numpy.array(a)\n",
    "b+1"
   ]
  },
  {
   "cell_type": "code",
   "execution_count": null,
   "metadata": {
    "collapsed": true
   },
   "outputs": [],
   "source": []
  },
  {
   "cell_type": "code",
   "execution_count": null,
   "metadata": {
    "collapsed": true
   },
   "outputs": [],
   "source": []
  },
  {
   "cell_type": "code",
   "execution_count": null,
   "metadata": {
    "collapsed": true
   },
   "outputs": [],
   "source": []
  },
  {
   "cell_type": "code",
   "execution_count": null,
   "metadata": {
    "collapsed": true
   },
   "outputs": [],
   "source": []
  },
  {
   "cell_type": "code",
   "execution_count": null,
   "metadata": {
    "collapsed": true
   },
   "outputs": [],
   "source": []
  },
  {
   "cell_type": "code",
   "execution_count": null,
   "metadata": {
    "collapsed": true
   },
   "outputs": [],
   "source": []
  },
  {
   "cell_type": "code",
   "execution_count": null,
   "metadata": {
    "collapsed": true
   },
   "outputs": [],
   "source": []
  },
  {
   "cell_type": "code",
   "execution_count": null,
   "metadata": {
    "collapsed": true
   },
   "outputs": [],
   "source": []
  }
 ],
 "metadata": {
  "kernelspec": {
   "display_name": "Python 2",
   "language": "python",
   "name": "python2"
  },
  "language_info": {
   "codemirror_mode": {
    "name": "ipython",
    "version": 2
   },
   "file_extension": ".py",
   "mimetype": "text/x-python",
   "name": "python",
   "nbconvert_exporter": "python",
   "pygments_lexer": "ipython2",
   "version": "2.7.13"
  }
 },
 "nbformat": 4,
 "nbformat_minor": 2
}
